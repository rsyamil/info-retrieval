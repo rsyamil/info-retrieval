{
 "cells": [
  {
   "cell_type": "code",
   "execution_count": 1,
   "metadata": {},
   "outputs": [],
   "source": [
    "import networkx as nx\n",
    "\n",
    "nx_graph = nx.read_edgelist(\"C:/Users/13108/Desktop/info-retrieval/solr-index/edges.txt\")\n",
    "pagerank = nx.pagerank(nx_graph, max_iter=50, tol=1e-07)\n",
    "\n",
    "with open(\"external_pageRankFile.txt\", \"w\") as f:\n",
    "    for key, value in pagerank.items():       \n",
    "        f.write(\"/home/emil/Desktop/NYTIMES/nytimes/\" + key + \"=\" + str(value) + \"\\n\")"
   ]
  }
 ],
 "metadata": {
  "kernelspec": {
   "display_name": "Python 3",
   "language": "python",
   "name": "python3"
  },
  "language_info": {
   "codemirror_mode": {
    "name": "ipython",
    "version": 3
   },
   "file_extension": ".py",
   "mimetype": "text/x-python",
   "name": "python",
   "nbconvert_exporter": "python",
   "pygments_lexer": "ipython3",
   "version": "3.6.11"
  }
 },
 "nbformat": 4,
 "nbformat_minor": 4
}
